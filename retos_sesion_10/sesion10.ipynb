{
 "cells": [
  {
   "cell_type": "markdown",
   "id": "5509ea2b",
   "metadata": {},
   "source": [
    "# CLASE 10\n",
    "### MUTABLE"
   ]
  },
  {
   "cell_type": "code",
   "execution_count": 2,
   "id": "abe1d1a8",
   "metadata": {},
   "outputs": [
    {
     "name": "stdout",
     "output_type": "stream",
     "text": [
      "{'🍔', '🌭', '🍟', '🍕'}\n",
      "{'🍔', '🌭', '🍟', '🥗', '🍕'}\n"
     ]
    }
   ],
   "source": [
    "conjunto = {'🍕','🍔','🍟','🌭'}\n",
    "print(conjunto) # {'🍔', '🌭', '🍕', '🍟'}\n",
    "conjunto.add('🥗')\n",
    "print(conjunto)  # {'🍔', '🍕', '🥗', '🍟', '🌭'}\n"
   ]
  },
  {
   "cell_type": "markdown",
   "id": "f0a25aad",
   "metadata": {},
   "source": [
    "### "
   ]
  }
 ],
 "metadata": {
  "kernelspec": {
   "display_name": "Python 3",
   "language": "python",
   "name": "python3"
  },
  "language_info": {
   "codemirror_mode": {
    "name": "ipython",
    "version": 3
   },
   "file_extension": ".py",
   "mimetype": "text/x-python",
   "name": "python",
   "nbconvert_exporter": "python",
   "pygments_lexer": "ipython3",
   "version": "3.13.3"
  }
 },
 "nbformat": 4,
 "nbformat_minor": 5
}
