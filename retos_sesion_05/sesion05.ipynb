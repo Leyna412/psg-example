{
 "cells": [
  {
   "cell_type": "markdown",
   "id": "98fdcc67",
   "metadata": {},
   "source": [
    "# SESION #5 - TIPOS DE DATOS\n",
    "## NUMEROS ENTEROS"
   ]
  },
  {
   "cell_type": "code",
   "execution_count": 1,
   "id": "fd980d51",
   "metadata": {},
   "outputs": [
    {
     "name": "stdout",
     "output_type": "stream",
     "text": [
      "10\n",
      "<class 'int'>\n",
      "100\n",
      "<class 'int'>\n",
      "20\n",
      "<class 'int'>\n"
     ]
    }
   ],
   "source": [
    "# Numeros Enteros\n",
    "# Valor 10 Entero\n",
    "print (10)\n",
    "print ( type (10) )\n",
    "\n",
    "# Variable 100 Entero\n",
    "variable = 100\n",
    "print (variable)\n",
    "print ( type (variable) )\n",
    "\n",
    "# Variable 20 Entero\n",
    "variable_2 = int (20)\n",
    "print (variable_2)\n",
    "print ( type (variable_2) )"
   ]
  },
  {
   "cell_type": "markdown",
   "id": "f5abfa7f",
   "metadata": {},
   "source": [
    "## Base Decimal"
   ]
  },
  {
   "cell_type": "code",
   "execution_count": 2,
   "id": "913b2de8",
   "metadata": {},
   "outputs": [
    {
     "name": "stdout",
     "output_type": "stream",
     "text": [
      "Base decimal\n",
      "10\n",
      "Base binaria\n",
      "10\n",
      "Base octal\n",
      "10\n",
      "Base hexadecimal\n",
      "10\n",
      "123456789012345678901234567890123456789012345678901234567890\n",
      "<class 'int'>\n"
     ]
    }
   ],
   "source": [
    "# Valor 10 en base decimal\n",
    "print (\"Base decimal\")\n",
    "print (10)\n",
    "# Valor 10 en binario\n",
    "print (\"Base binaria\")\n",
    "print (0b1010)\n",
    "# Valor 10 en octal\n",
    "print (\"Base octal\")\n",
    "print (0o12)\n",
    "# Valor 10 en hexadecimal\n",
    "print (\"Base hexadecimal\")\n",
    "print (0xa)\n",
    "\n",
    "# Entero con 60 dígitos\n",
    "variable_3 = 123456789012345678901234567890123456789012345678901234567890\n",
    "print (variable_3)\n",
    "print (type (variable_3))"
   ]
  },
  {
   "cell_type": "markdown",
   "id": "62f02545",
   "metadata": {},
   "source": [
    "## NUMEROS FLOTANTES"
   ]
  },
  {
   "cell_type": "code",
   "execution_count": 7,
   "id": "386a8877",
   "metadata": {},
   "outputs": [
    {
     "name": "stdout",
     "output_type": "stream",
     "text": [
      "0.5\n",
      "<class 'float'>\n",
      "0.100546\n",
      "<class 'float'>\n",
      "1.0\n",
      "<class 'float'>\n",
      "0.002\n",
      "<class 'float'>\n",
      "0.9999999999999999\n",
      "<class 'float'>\n"
     ]
    }
   ],
   "source": [
    "# NUMERO FLOTANTE\n",
    "# Valor 0.5 Flotante\n",
    "print (0.5)\n",
    "print ( type (0.5) )\n",
    "\n",
    "# Variable 0.100546 Flotante\n",
    "variable_4 = 0.100546\n",
    "print (variable_4)\n",
    "print ( type (variable_4) )\n",
    "\n",
    "# Variable 1 Flotante\n",
    "variable_7 = float (1)\n",
    "print(variable_7)\n",
    "print ( type (variable_7) )\n",
    "\n",
    "# Valor 2.0e-3 Flotante\n",
    "variable_6 = 2.0e-3\n",
    "print(variable_6)\n",
    "print ( type (variable_6) )\n",
    "\n",
    "# Precisión de 17 decimales\n",
    "variable_5 = 0.9999999999999999\n",
    "print(variable_5)\n",
    "print ( type (variable_5) )\n"
   ]
  },
  {
   "cell_type": "markdown",
   "id": "c93d87ec",
   "metadata": {},
   "source": [
    "## OPERACIONES COMPLEJAS"
   ]
  },
  {
   "cell_type": "code",
   "execution_count": 8,
   "id": "0e94c874",
   "metadata": {},
   "outputs": [
    {
     "name": "stdout",
     "output_type": "stream",
     "text": [
      "Suma\n",
      "13\n",
      "Resta\n",
      "7\n",
      "Multiplicación\n",
      "30\n",
      "División\n",
      "3.3333333333333335\n",
      "Potencia\n",
      "1000\n",
      "Módulo o residuo\n",
      "1\n",
      "División entera\n",
      "3\n",
      "Un contador tiene 300 minutos y se le suman 3600 segundos, ¿Cuántas horas en total son?\n",
      "Total de horas: 61.0 horas\n"
     ]
    }
   ],
   "source": [
    "# Operadores aritméticos\n",
    "a = 10\n",
    "b = 3\n",
    "# Suma\n",
    "print (\"Suma\")\n",
    "print (a + b)\n",
    "# Resta\n",
    "print (\"Resta\")\n",
    "print (a - b)\n",
    "# Multiplicación\n",
    "print (\"Multiplicación\")\n",
    "print (a * b)\n",
    "# División\n",
    "print (\"División\")\n",
    "print (a / b)\n",
    "# Potencia\n",
    "print (\"Potencia\")\n",
    "print (a ** b)\n",
    "# Módulo o residuo\n",
    "print (\"Módulo o residuo\")\n",
    "print (a % b)\n",
    "# División entera\n",
    "print (\"División entera\")\n",
    "print (a // b)\n",
    "\n",
    "#Ejemplo\n",
    "print(\"Un contador tiene 300 minutos y se le suman 3600 segundos, ¿Cuántas horas en total son?\")\n",
    "minutos = 300\n",
    "segundos = 3600\n",
    "min_adic = segundos / 60\n",
    "t_min = segundos + min_adic\n",
    "horas = t_min / 60\n",
    "print(\"Total de horas:\", horas,\"horas\")"
   ]
  },
  {
   "cell_type": "markdown",
   "id": "b1473362",
   "metadata": {},
   "source": [
    "## OPERACIONES DE COMPARACIÓN\n",
    "### Numeros enteros"
   ]
  },
  {
   "cell_type": "code",
   "execution_count": 9,
   "id": "b3dc5640",
   "metadata": {},
   "outputs": [
    {
     "name": "stdout",
     "output_type": "stream",
     "text": [
      "Operadores de comparación\n",
      "False\n",
      "False\n",
      "True\n",
      "True\n",
      "True\n",
      "False\n",
      "Operadores de comparación con int - float\n",
      "False\n",
      "False\n",
      "True\n",
      "True\n",
      "True\n",
      "False\n"
     ]
    }
   ],
   "source": [
    "print (\"Operadores de comparación\")\n",
    "comparar = 10\n",
    "print (comparar < 10)\n",
    "print (comparar > 10)\n",
    "print (comparar == 10)\n",
    "print (comparar <= 10)\n",
    "print (comparar >= 10)\n",
    "print (comparar != 10)\n",
    "\n",
    "print (\"Operadores de comparación con int - float\")\n",
    "entero = 10\n",
    "flotante = 10.0\n",
    "print (entero < flotante)\n",
    "print (entero > flotante)\n",
    "print (entero == flotante)\n",
    "print (entero <= flotante)\n",
    "print (entero >= flotante)\n",
    "print (entero != flotante)"
   ]
  },
  {
   "cell_type": "markdown",
   "id": "03541346",
   "metadata": {},
   "source": [
    "### Números Flotantes"
   ]
  },
  {
   "cell_type": "code",
   "execution_count": 10,
   "id": "40442589",
   "metadata": {},
   "outputs": [
    {
     "name": "stdout",
     "output_type": "stream",
     "text": [
      "Operadores de comparación con int - float\n",
      "False\n",
      "False\n",
      "True\n",
      "True\n",
      "True\n",
      "False\n"
     ]
    }
   ],
   "source": [
    "#Flotante\n",
    "print (\"Operadores de comparación con int - float\")\n",
    "entero = 10\n",
    "flotante = 10.0\n",
    "print (entero < flotante)\n",
    "print (entero > flotante)\n",
    "print (entero == flotante)\n",
    "print (entero <= flotante)\n",
    "print (entero >= flotante)\n",
    "print (entero != flotante)"
   ]
  }
 ],
 "metadata": {
  "kernelspec": {
   "display_name": "Python 3",
   "language": "python",
   "name": "python3"
  },
  "language_info": {
   "codemirror_mode": {
    "name": "ipython",
    "version": 3
   },
   "file_extension": ".py",
   "mimetype": "text/x-python",
   "name": "python",
   "nbconvert_exporter": "python",
   "pygments_lexer": "ipython3",
   "version": "3.13.3"
  }
 },
 "nbformat": 4,
 "nbformat_minor": 5
}
