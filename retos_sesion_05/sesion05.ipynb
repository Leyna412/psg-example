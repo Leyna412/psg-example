{
 "cells": [
  {
   "cell_type": "markdown",
   "id": "98fdcc67",
   "metadata": {},
   "source": [
    "# SESION #5 - TIPOS DE DATOS\n",
    "## NUMEROS ENTEROS"
   ]
  },
  {
   "cell_type": "code",
   "execution_count": 3,
   "id": "fd980d51",
   "metadata": {},
   "outputs": [
    {
     "name": "stdout",
     "output_type": "stream",
     "text": [
      "10\n",
      "<class 'int'>\n",
      "100\n",
      "<class 'int'>\n",
      "Base decimal\n",
      "10\n",
      "Base binaria\n",
      "10\n",
      "Base octal\n",
      "10\n",
      "Base hexadecimal\n",
      "10\n"
     ]
    }
   ],
   "source": [
    "# Numeros Enteros\n",
    "# Valor 10 Entero\n",
    "print (10)\n",
    "print ( type (10) )\n",
    "\n",
    "# Variable 100 Entero\n",
    "variable = 100\n",
    "print (variable)\n",
    "print ( type (variable) )\n",
    "\n",
    "# Valor 10 en base decimal\n",
    "print (\"Base decimal\")\n",
    "print (10)\n",
    "# Valor 10 en binario\n",
    "print (\"Base binaria\")\n",
    "print (0b1010)\n",
    "# Valor 10 en octal\n",
    "print (\"Base octal\")\n",
    "print (0o12)\n",
    "# Valor 10 en hexadecimal\n",
    "print (\"Base hexadecimal\")\n",
    "print (0xa)\n"
   ]
  },
  {
   "cell_type": "markdown",
   "id": "62f02545",
   "metadata": {},
   "source": [
    "## NUMEROS FLOTANTES"
   ]
  },
  {
   "cell_type": "code",
   "execution_count": null,
   "id": "386a8877",
   "metadata": {},
   "outputs": [],
   "source": [
    "# NUMERO FLOTANTE\n",
    "# Valor 0.5 Flotante\n",
    "print (0.5)\n",
    "print ( type (0.5) )\n",
    "\n",
    "# Variable 0.100546 Flotante\n",
    "variable_4 = 0.100546\n",
    "print (variable_4)\n",
    "print ( type (variable_4) )\n",
    "\n",
    "# Valor 2.0e-3 Flotante\n",
    "variable_6 = 2.0e-3\n",
    "print(variable_6)\n",
    "print ( type (variable_6) )\n"
   ]
  },
  {
   "cell_type": "markdown",
   "id": "c93d87ec",
   "metadata": {},
   "source": [
    "## OPERACIONES COMPLEJAS"
   ]
  },
  {
   "cell_type": "code",
   "execution_count": null,
   "id": "0e94c874",
   "metadata": {},
   "outputs": [],
   "source": [
    "print(\"Un contador tiene 300 minutos y se le suman 3600 segundos, ¿Cuántas horas en total son?\")\n",
    "minutos = 300\n",
    "segundos = 3600\n",
    "min_adic = segundos / 60\n",
    "t_min = segundos + min_adic\n",
    "horas = t_min / 60\n",
    "print(\"Total de horas:\", horas,\"horas\")"
   ]
  },
  {
   "cell_type": "markdown",
   "id": "b1473362",
   "metadata": {},
   "source": [
    "## OPERACIONES DE COMPARACIÓN\n",
    "### Numeros enteros"
   ]
  },
  {
   "cell_type": "code",
   "execution_count": null,
   "id": "b3dc5640",
   "metadata": {},
   "outputs": [],
   "source": [
    "print (\"Operadores de comparación\")\n",
    "comparar = 10\n",
    "print (comparar < 10)\n",
    "print (comparar > 10)\n",
    "print (comparar == 10)\n",
    "print (comparar <= 10)\n",
    "print (comparar >= 10)\n",
    "print (comparar != 10)"
   ]
  },
  {
   "cell_type": "markdown",
   "id": "03541346",
   "metadata": {},
   "source": [
    "### Números Flotantes"
   ]
  },
  {
   "cell_type": "code",
   "execution_count": null,
   "id": "40442589",
   "metadata": {},
   "outputs": [],
   "source": [
    "#Flotante\n",
    "print (\"Operadores de comparación con int - float\")\n",
    "entero = 10\n",
    "flotante = 10.0\n",
    "print (entero < flotante)\n",
    "print (entero > flotante)\n",
    "print (entero == flotante)\n",
    "print (entero <= flotante)\n",
    "print (entero >= flotante)\n",
    "print (entero != flotante)"
   ]
  }
 ],
 "metadata": {
  "kernelspec": {
   "display_name": "Python 3",
   "language": "python",
   "name": "python3"
  },
  "language_info": {
   "codemirror_mode": {
    "name": "ipython",
    "version": 3
   },
   "file_extension": ".py",
   "mimetype": "text/x-python",
   "name": "python",
   "nbconvert_exporter": "python",
   "pygments_lexer": "ipython3",
   "version": "3.13.3"
  }
 },
 "nbformat": 4,
 "nbformat_minor": 5
}
