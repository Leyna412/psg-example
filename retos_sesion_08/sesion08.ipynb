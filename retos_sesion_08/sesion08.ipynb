{
 "cells": [
  {
   "cell_type": "markdown",
   "id": "ceea8b3d",
   "metadata": {},
   "source": [
    "### TUPLA"
   ]
  },
  {
   "cell_type": "code",
   "execution_count": 2,
   "id": "0bd20265",
   "metadata": {},
   "outputs": [
    {
     "name": "stdout",
     "output_type": "stream",
     "text": [
      "False\n"
     ]
    }
   ],
   "source": [
    "tupla1 = (1,2,3)\n",
    "tupla2 = (3,2,1)\n",
    "print (tupla1 == tupla2) # False"
   ]
  },
  {
   "cell_type": "code",
   "execution_count": 3,
   "id": "a61de2f3",
   "metadata": {},
   "outputs": [
    {
     "data": {
      "text/plain": [
       "3"
      ]
     },
     "execution_count": 3,
     "metadata": {},
     "output_type": "execute_result"
    }
   ],
   "source": [
    "tupla = (1,2,3)\n",
    "tupla[0] # 1\n",
    "tupla[1] # 2\n",
    "tupla[2] # 3"
   ]
  },
  {
   "cell_type": "code",
   "execution_count": 4,
   "id": "24763965",
   "metadata": {},
   "outputs": [],
   "source": [
    "coordenadas = (3,5)\n",
    "x,y = coordenadas"
   ]
  }
 ],
 "metadata": {
  "kernelspec": {
   "display_name": "Python 3",
   "language": "python",
   "name": "python3"
  },
  "language_info": {
   "codemirror_mode": {
    "name": "ipython",
    "version": 3
   },
   "file_extension": ".py",
   "mimetype": "text/x-python",
   "name": "python",
   "nbconvert_exporter": "python",
   "pygments_lexer": "ipython3",
   "version": "3.13.3"
  }
 },
 "nbformat": 4,
 "nbformat_minor": 5
}
