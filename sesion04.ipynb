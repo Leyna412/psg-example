{
 "cells": [
  {
   "cell_type": "code",
   "execution_count": 1,
   "id": "b513a1f7",
   "metadata": {},
   "outputs": [
    {
     "name": "stdout",
     "output_type": "stream",
     "text": [
      "Hola, Mundo desde Notebook!\n"
     ]
    }
   ],
   "source": [
    "# Code 01\n",
    "print (\"Hola, Mundo desde Notebook!\")"
   ]
  },
  {
   "cell_type": "code",
   "execution_count": 2,
   "id": "b618c37a",
   "metadata": {},
   "outputs": [
    {
     "name": "stdout",
     "output_type": "stream",
     "text": [
      "          +        \n",
      "         +++       \n",
      "        +++++      \n",
      "       +++++++     \n",
      "      +++++++++    \n",
      "     +++++++++++   \n",
      "         ||        \n"
     ]
    }
   ],
   "source": [
    "print(\"          +        \")\n",
    "print(\"         +++       \")\n",
    "print(\"        +++++      \")\n",
    "print(\"       +++++++     \")\n",
    "print(\"      +++++++++    \")\n",
    "print(\"     +++++++++++   \")\n",
    "print(\"         ||        \")"
   ]
  },
  {
   "cell_type": "markdown",
   "id": "f30255e6",
   "metadata": {},
   "source": [
    "# Sesión 04\n",
    "- Mi primer notebook\n",
    "- Imprimir árbol\n",
    "- Crear Markdown\n",
    "- Subir a mi repositorio de GitHub\n",
    "## 🌲\n"
   ]
  },
  {
   "cell_type": "markdown",
   "id": "18f3cb16",
   "metadata": {},
   "source": [
    "$\\int_{-1}^{1}\\alpha(x) dx + \\sum_{i=1}^{\\infty}z_i$"
   ]
  }
 ],
 "metadata": {
  "kernelspec": {
   "display_name": "Python 3",
   "language": "python",
   "name": "python3"
  },
  "language_info": {
   "codemirror_mode": {
    "name": "ipython",
    "version": 3
   },
   "file_extension": ".py",
   "mimetype": "text/x-python",
   "name": "python",
   "nbconvert_exporter": "python",
   "pygments_lexer": "ipython3",
   "version": "3.13.3"
  }
 },
 "nbformat": 4,
 "nbformat_minor": 5
}
