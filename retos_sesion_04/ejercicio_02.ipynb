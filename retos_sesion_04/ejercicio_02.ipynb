{
 "cells": [
  {
   "cell_type": "markdown",
   "id": "b500172c",
   "metadata": {},
   "source": [
    "### DIBUJO DE UN PERRITO\n",
    "Utilizando los siguientes símbolos usando prints\n",
    "`Símbolos: * , () \\ | / o \" ' = C`"
   ]
  },
  {
   "cell_type": "code",
   "execution_count": 7,
   "id": "feffee2a",
   "metadata": {},
   "outputs": [
    {
     "name": "stdout",
     "output_type": "stream",
     "text": [
      "     / \\__\n",
      "    (    CO\\___\n",
      "    /         O\n",
      "   /   (_____/\n",
      "  /_____||  ||\n",
      "  =======     \n",
      "'''''''''''''''\n"
     ]
    }
   ],
   "source": [
    "print(\"     / \\\\__\")\n",
    "print(\"    (    CO\\\\___\")\n",
    "print(\"    /         O\")\n",
    "print(\"   /   (_____/\")\n",
    "print(\"  /_____||  ||\")\n",
    "print(\"  =======     \")\n",
    "print(\"'''''''''''''''\")"
   ]
  }
 ],
 "metadata": {
  "kernelspec": {
   "display_name": "Python 3",
   "language": "python",
   "name": "python3"
  },
  "language_info": {
   "codemirror_mode": {
    "name": "ipython",
    "version": 3
   },
   "file_extension": ".py",
   "mimetype": "text/x-python",
   "name": "python",
   "nbconvert_exporter": "python",
   "pygments_lexer": "ipython3",
   "version": "3.13.3"
  }
 },
 "nbformat": 4,
 "nbformat_minor": 5
}
