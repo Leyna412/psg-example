{
 "cells": [
  {
   "cell_type": "markdown",
   "id": "905e9888",
   "metadata": {},
   "source": [
    "# 🎲 Juego: Batalla de Símbolos\n",
    "\n",
    "Un juego de tablero por turnos donde dos jugadores compiten por controlar el tablero moviendo sus piezas con estrategia. Cada jugador tiene un conjunto de piezas que se desplazan por el tablero con el objetivo de capturar las piezas del oponente.\n",
    "\n",
    "## 📜 Reglas del Juego\n",
    "\n",
    "- El tablero es de 5 filas por 5 columnas.\n",
    "- Cada jugador tiene 3 piezas representadas por símbolos.\n",
    "  - Jugador 1: `@`\n",
    "  - Jugador 2: `#`\n",
    "- Las piezas comienzan en los extremos opuestos del tablero.\n",
    "- En cada turno, un jugador puede mover una de sus piezas una casilla en dirección vertical u horizontal (no diagonal).\n",
    "- Si una pieza se mueve a una casilla ocupada por una pieza rival, la elimina.\n",
    "- Gana el jugador que elimine todas las piezas del oponente."
   ]
  },
  {
   "cell_type": "code",
   "execution_count": 1,
   "id": "faeb121d",
   "metadata": {},
   "outputs": [
    {
     "name": "stdout",
     "output_type": "stream",
     "text": [
      "# | # | # |   |  \n",
      "-----------------\n",
      "  |   |   |   |  \n",
      "-----------------\n",
      "  |   |   |   |  \n",
      "-----------------\n",
      "  |   |   |   |  \n",
      "-----------------\n",
      "@ | @ | @ |   |  \n",
      "-----------------\n"
     ]
    }
   ],
   "source": [
    "def mostrar_tablero():\n",
    "    tablero = [\n",
    "        [\"#\", \"#\", \"#\", \" \", \" \"],\n",
    "        [\" \", \" \", \" \", \" \", \" \"],\n",
    "        [\" \", \" \", \" \", \" \", \" \"],\n",
    "        [\" \", \" \", \" \", \" \", \" \"],\n",
    "        [\"@\", \"@\", \"@\", \" \", \" \"]\n",
    "    ]\n",
    "    for fila in tablero:\n",
    "        print(\" | \".join(fila))\n",
    "        print(\"-\" * 17)\n",
    "\n",
    "mostrar_tablero()"
   ]
  },
  {
   "cell_type": "markdown",
   "id": "b77a54cf",
   "metadata": {},
   "source": [
    "## 🧩 Piezas del Juego\n",
    "\n",
    "- `@` → Piezas del Jugador 1 (equipo azul).\n",
    "- `#` → Piezas del Jugador 2 (equipo rojo).\n",
    "- Cada pieza puede moverse una sola casilla por turno en línea recta (arriba, abajo, izquierda o derecha).\n"
   ]
  },
  {
   "cell_type": "code",
   "execution_count": 2,
   "id": "d57c16af",
   "metadata": {},
   "outputs": [
    {
     "name": "stdout",
     "output_type": "stream",
     "text": [
      "Jugador 1: @  @  @\n",
      "Jugador 2: #  #  #\n"
     ]
    }
   ],
   "source": [
    "def mostrar_piezas():\n",
    "    print(\"Jugador 1: @  @  @\")\n",
    "    print(\"Jugador 2: #  #  #\")\n",
    "\n",
    "mostrar_piezas()\n"
   ]
  }
 ],
 "metadata": {
  "kernelspec": {
   "display_name": "Python 3",
   "language": "python",
   "name": "python3"
  },
  "language_info": {
   "codemirror_mode": {
    "name": "ipython",
    "version": 3
   },
   "file_extension": ".py",
   "mimetype": "text/x-python",
   "name": "python",
   "nbconvert_exporter": "python",
   "pygments_lexer": "ipython3",
   "version": "3.13.3"
  }
 },
 "nbformat": 4,
 "nbformat_minor": 5
}
